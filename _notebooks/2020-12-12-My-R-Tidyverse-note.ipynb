{
 "cells": [
  {
   "cell_type": "markdown",
   "metadata": {},
   "source": [
    "# My Tidyverse note\n",
    "> Sang's personal Tidyverse note\n",
    "\n",
    "- toc: true \n",
    "- badges: true\n",
    "- comments: true\n",
    "- categories: [R,tidyverse]"
   ]
  },
  {
   "cell_type": "code",
   "execution_count": 1,
   "metadata": {},
   "outputs": [],
   "source": [
    "suppressPackageStartupMessages(library(tidyverse))\n",
    "suppressPackageStartupMessages(library(purrr))\n",
    "suppressPackageStartupMessages(library(lubridate))\n",
    "suppressPackageStartupMessages(library(data.table))"
   ]
  },
  {
   "cell_type": "markdown",
   "metadata": {},
   "source": [
    "# dplyr\n",
    "\n",
    "Various dplyr sample codes\n",
    "\n"
   ]
  },
  {
   "cell_type": "markdown",
   "metadata": {},
   "source": [
    "## rleid"
   ]
  },
  {
   "cell_type": "code",
   "execution_count": 2,
   "metadata": {
    "scrolled": true
   },
   "outputs": [
    {
     "data": {
      "text/html": [
       "<table>\n",
       "<thead><tr><th scope=col>mpg</th><th scope=col>cyl</th><th scope=col>disp</th><th scope=col>hp</th><th scope=col>drat</th><th scope=col>wt</th><th scope=col>qsec</th><th scope=col>vs</th><th scope=col>am</th><th scope=col>gear</th><th scope=col>carb</th><th scope=col>rleid</th></tr></thead>\n",
       "<tbody>\n",
       "\t<tr><td>21.0 </td><td>6    </td><td>160  </td><td>110  </td><td>3.90 </td><td>2.620</td><td>16.46</td><td>0    </td><td>1    </td><td>4    </td><td>4    </td><td>1    </td></tr>\n",
       "\t<tr><td>21.0 </td><td>6    </td><td>160  </td><td>110  </td><td>3.90 </td><td>2.875</td><td>17.02</td><td>0    </td><td>1    </td><td>4    </td><td>4    </td><td>1    </td></tr>\n",
       "\t<tr><td>22.8 </td><td>4    </td><td>108  </td><td> 93  </td><td>3.85 </td><td>2.320</td><td>18.61</td><td>1    </td><td>1    </td><td>4    </td><td>1    </td><td>1    </td></tr>\n",
       "\t<tr><td>21.4 </td><td>6    </td><td>258  </td><td>110  </td><td>3.08 </td><td>3.215</td><td>19.44</td><td>1    </td><td>0    </td><td>3    </td><td>1    </td><td>2    </td></tr>\n",
       "\t<tr><td>18.7 </td><td>8    </td><td>360  </td><td>175  </td><td>3.15 </td><td>3.440</td><td>17.02</td><td>0    </td><td>0    </td><td>3    </td><td>2    </td><td>2    </td></tr>\n",
       "\t<tr><td>18.1 </td><td>6    </td><td>225  </td><td>105  </td><td>2.76 </td><td>3.460</td><td>20.22</td><td>1    </td><td>0    </td><td>3    </td><td>1    </td><td>2    </td></tr>\n",
       "</tbody>\n",
       "</table>\n"
      ],
      "text/latex": [
       "\\begin{tabular}{r|llllllllllll}\n",
       " mpg & cyl & disp & hp & drat & wt & qsec & vs & am & gear & carb & rleid\\\\\n",
       "\\hline\n",
       "\t 21.0  & 6     & 160   & 110   & 3.90  & 2.620 & 16.46 & 0     & 1     & 4     & 4     & 1    \\\\\n",
       "\t 21.0  & 6     & 160   & 110   & 3.90  & 2.875 & 17.02 & 0     & 1     & 4     & 4     & 1    \\\\\n",
       "\t 22.8  & 4     & 108   &  93   & 3.85  & 2.320 & 18.61 & 1     & 1     & 4     & 1     & 1    \\\\\n",
       "\t 21.4  & 6     & 258   & 110   & 3.08  & 3.215 & 19.44 & 1     & 0     & 3     & 1     & 2    \\\\\n",
       "\t 18.7  & 8     & 360   & 175   & 3.15  & 3.440 & 17.02 & 0     & 0     & 3     & 2     & 2    \\\\\n",
       "\t 18.1  & 6     & 225   & 105   & 2.76  & 3.460 & 20.22 & 1     & 0     & 3     & 1     & 2    \\\\\n",
       "\\end{tabular}\n"
      ],
      "text/markdown": [
       "\n",
       "| mpg | cyl | disp | hp | drat | wt | qsec | vs | am | gear | carb | rleid |\n",
       "|---|---|---|---|---|---|---|---|---|---|---|---|\n",
       "| 21.0  | 6     | 160   | 110   | 3.90  | 2.620 | 16.46 | 0     | 1     | 4     | 4     | 1     |\n",
       "| 21.0  | 6     | 160   | 110   | 3.90  | 2.875 | 17.02 | 0     | 1     | 4     | 4     | 1     |\n",
       "| 22.8  | 4     | 108   |  93   | 3.85  | 2.320 | 18.61 | 1     | 1     | 4     | 1     | 1     |\n",
       "| 21.4  | 6     | 258   | 110   | 3.08  | 3.215 | 19.44 | 1     | 0     | 3     | 1     | 2     |\n",
       "| 18.7  | 8     | 360   | 175   | 3.15  | 3.440 | 17.02 | 0     | 0     | 3     | 2     | 2     |\n",
       "| 18.1  | 6     | 225   | 105   | 2.76  | 3.460 | 20.22 | 1     | 0     | 3     | 1     | 2     |\n",
       "\n"
      ],
      "text/plain": [
       "  mpg  cyl disp hp  drat wt    qsec  vs am gear carb rleid\n",
       "1 21.0 6   160  110 3.90 2.620 16.46 0  1  4    4    1    \n",
       "2 21.0 6   160  110 3.90 2.875 17.02 0  1  4    4    1    \n",
       "3 22.8 4   108   93 3.85 2.320 18.61 1  1  4    1    1    \n",
       "4 21.4 6   258  110 3.08 3.215 19.44 1  0  3    1    2    \n",
       "5 18.7 8   360  175 3.15 3.440 17.02 0  0  3    2    2    \n",
       "6 18.1 6   225  105 2.76 3.460 20.22 1  0  3    1    2    "
      ]
     },
     "metadata": {},
     "output_type": "display_data"
    }
   ],
   "source": [
    "# rleid. assign increasing index whenever there is change in gear value\n",
    "mtcars%>%as_tibble()%>%mutate(rleid=(gear!=lag(gear,default = 0)))%>%mutate(rleid=cumsum(rleid))%>%head()"
   ]
  },
  {
   "cell_type": "markdown",
   "metadata": {},
   "source": [
    "## rleid with index"
   ]
  },
  {
   "cell_type": "code",
   "execution_count": 3,
   "metadata": {},
   "outputs": [
    {
     "data": {
      "text/html": [
       "<table>\n",
       "<thead><tr><th scope=col>mpg</th><th scope=col>cyl</th><th scope=col>disp</th><th scope=col>hp</th><th scope=col>drat</th><th scope=col>wt</th><th scope=col>qsec</th><th scope=col>vs</th><th scope=col>am</th><th scope=col>gear</th><th scope=col>carb</th><th scope=col>rleid</th><th scope=col>row_number</th></tr></thead>\n",
       "<tbody>\n",
       "\t<tr><td>21.0 </td><td>6    </td><td>160  </td><td>110  </td><td>3.90 </td><td>2.620</td><td>16.46</td><td>0    </td><td>1    </td><td>4    </td><td>4    </td><td>1    </td><td>1    </td></tr>\n",
       "\t<tr><td>21.0 </td><td>6    </td><td>160  </td><td>110  </td><td>3.90 </td><td>2.875</td><td>17.02</td><td>0    </td><td>1    </td><td>4    </td><td>4    </td><td>1    </td><td>2    </td></tr>\n",
       "\t<tr><td>22.8 </td><td>4    </td><td>108  </td><td> 93  </td><td>3.85 </td><td>2.320</td><td>18.61</td><td>1    </td><td>1    </td><td>4    </td><td>1    </td><td>1    </td><td>3    </td></tr>\n",
       "\t<tr><td>21.4 </td><td>6    </td><td>258  </td><td>110  </td><td>3.08 </td><td>3.215</td><td>19.44</td><td>1    </td><td>0    </td><td>3    </td><td>1    </td><td>2    </td><td>1    </td></tr>\n",
       "\t<tr><td>18.7 </td><td>8    </td><td>360  </td><td>175  </td><td>3.15 </td><td>3.440</td><td>17.02</td><td>0    </td><td>0    </td><td>3    </td><td>2    </td><td>2    </td><td>2    </td></tr>\n",
       "\t<tr><td>18.1 </td><td>6    </td><td>225  </td><td>105  </td><td>2.76 </td><td>3.460</td><td>20.22</td><td>1    </td><td>0    </td><td>3    </td><td>1    </td><td>2    </td><td>3    </td></tr>\n",
       "</tbody>\n",
       "</table>\n"
      ],
      "text/latex": [
       "\\begin{tabular}{r|lllllllllllll}\n",
       " mpg & cyl & disp & hp & drat & wt & qsec & vs & am & gear & carb & rleid & row\\_number\\\\\n",
       "\\hline\n",
       "\t 21.0  & 6     & 160   & 110   & 3.90  & 2.620 & 16.46 & 0     & 1     & 4     & 4     & 1     & 1    \\\\\n",
       "\t 21.0  & 6     & 160   & 110   & 3.90  & 2.875 & 17.02 & 0     & 1     & 4     & 4     & 1     & 2    \\\\\n",
       "\t 22.8  & 4     & 108   &  93   & 3.85  & 2.320 & 18.61 & 1     & 1     & 4     & 1     & 1     & 3    \\\\\n",
       "\t 21.4  & 6     & 258   & 110   & 3.08  & 3.215 & 19.44 & 1     & 0     & 3     & 1     & 2     & 1    \\\\\n",
       "\t 18.7  & 8     & 360   & 175   & 3.15  & 3.440 & 17.02 & 0     & 0     & 3     & 2     & 2     & 2    \\\\\n",
       "\t 18.1  & 6     & 225   & 105   & 2.76  & 3.460 & 20.22 & 1     & 0     & 3     & 1     & 2     & 3    \\\\\n",
       "\\end{tabular}\n"
      ],
      "text/markdown": [
       "\n",
       "| mpg | cyl | disp | hp | drat | wt | qsec | vs | am | gear | carb | rleid | row_number |\n",
       "|---|---|---|---|---|---|---|---|---|---|---|---|---|\n",
       "| 21.0  | 6     | 160   | 110   | 3.90  | 2.620 | 16.46 | 0     | 1     | 4     | 4     | 1     | 1     |\n",
       "| 21.0  | 6     | 160   | 110   | 3.90  | 2.875 | 17.02 | 0     | 1     | 4     | 4     | 1     | 2     |\n",
       "| 22.8  | 4     | 108   |  93   | 3.85  | 2.320 | 18.61 | 1     | 1     | 4     | 1     | 1     | 3     |\n",
       "| 21.4  | 6     | 258   | 110   | 3.08  | 3.215 | 19.44 | 1     | 0     | 3     | 1     | 2     | 1     |\n",
       "| 18.7  | 8     | 360   | 175   | 3.15  | 3.440 | 17.02 | 0     | 0     | 3     | 2     | 2     | 2     |\n",
       "| 18.1  | 6     | 225   | 105   | 2.76  | 3.460 | 20.22 | 1     | 0     | 3     | 1     | 2     | 3     |\n",
       "\n"
      ],
      "text/plain": [
       "  mpg  cyl disp hp  drat wt    qsec  vs am gear carb rleid row_number\n",
       "1 21.0 6   160  110 3.90 2.620 16.46 0  1  4    4    1     1         \n",
       "2 21.0 6   160  110 3.90 2.875 17.02 0  1  4    4    1     2         \n",
       "3 22.8 4   108   93 3.85 2.320 18.61 1  1  4    1    1     3         \n",
       "4 21.4 6   258  110 3.08 3.215 19.44 1  0  3    1    2     1         \n",
       "5 18.7 8   360  175 3.15 3.440 17.02 0  0  3    2    2     2         \n",
       "6 18.1 6   225  105 2.76 3.460 20.22 1  0  3    1    2     3         "
      ]
     },
     "metadata": {},
     "output_type": "display_data"
    }
   ],
   "source": [
    "# index within rleid\n",
    "mtcars%>%as_tibble()%>%\n",
    "    mutate(rleid=(gear!=lag(gear,default = 0)))%>%\n",
    "    mutate(rleid=cumsum(rleid))%>%\n",
    "    group_by(rleid)%>%\n",
    "    mutate(row_number=row_number())%>%\n",
    "    ungroup()%>%head()"
   ]
  },
  {
   "cell_type": "markdown",
   "metadata": {},
   "source": [
    "## find repeated numbers"
   ]
  },
  {
   "cell_type": "code",
   "execution_count": 4,
   "metadata": {
    "scrolled": true
   },
   "outputs": [
    {
     "data": {
      "text/html": [
       "<table>\n",
       "<thead><tr><th scope=col>vec</th><th scope=col>out</th></tr></thead>\n",
       "<tbody>\n",
       "\t<tr><td> 1.0</td><td>0   </td></tr>\n",
       "\t<tr><td> 2.0</td><td>0   </td></tr>\n",
       "\t<tr><td> 4.0</td><td>0   </td></tr>\n",
       "\t<tr><td> 5.0</td><td>1   </td></tr>\n",
       "\t<tr><td> 5.0</td><td>1   </td></tr>\n",
       "\t<tr><td> 5.0</td><td>1   </td></tr>\n",
       "\t<tr><td> 6.1</td><td>0   </td></tr>\n",
       "\t<tr><td> 6.0</td><td>0   </td></tr>\n",
       "\t<tr><td> 6.2</td><td>0   </td></tr>\n",
       "\t<tr><td>-1.0</td><td>0   </td></tr>\n",
       "\t<tr><td>-1.0</td><td>0   </td></tr>\n",
       "\t<tr><td>-1.0</td><td>0   </td></tr>\n",
       "\t<tr><td> 8.0</td><td>1   </td></tr>\n",
       "\t<tr><td> 8.0</td><td>1   </td></tr>\n",
       "\t<tr><td> 8.0</td><td>1   </td></tr>\n",
       "</tbody>\n",
       "</table>\n"
      ],
      "text/latex": [
       "\\begin{tabular}{r|ll}\n",
       " vec & out\\\\\n",
       "\\hline\n",
       "\t  1.0 & 0   \\\\\n",
       "\t  2.0 & 0   \\\\\n",
       "\t  4.0 & 0   \\\\\n",
       "\t  5.0 & 1   \\\\\n",
       "\t  5.0 & 1   \\\\\n",
       "\t  5.0 & 1   \\\\\n",
       "\t  6.1 & 0   \\\\\n",
       "\t  6.0 & 0   \\\\\n",
       "\t  6.2 & 0   \\\\\n",
       "\t -1.0 & 0   \\\\\n",
       "\t -1.0 & 0   \\\\\n",
       "\t -1.0 & 0   \\\\\n",
       "\t  8.0 & 1   \\\\\n",
       "\t  8.0 & 1   \\\\\n",
       "\t  8.0 & 1   \\\\\n",
       "\\end{tabular}\n"
      ],
      "text/markdown": [
       "\n",
       "| vec | out |\n",
       "|---|---|\n",
       "|  1.0 | 0    |\n",
       "|  2.0 | 0    |\n",
       "|  4.0 | 0    |\n",
       "|  5.0 | 1    |\n",
       "|  5.0 | 1    |\n",
       "|  5.0 | 1    |\n",
       "|  6.1 | 0    |\n",
       "|  6.0 | 0    |\n",
       "|  6.2 | 0    |\n",
       "| -1.0 | 0    |\n",
       "| -1.0 | 0    |\n",
       "| -1.0 | 0    |\n",
       "|  8.0 | 1    |\n",
       "|  8.0 | 1    |\n",
       "|  8.0 | 1    |\n",
       "\n"
      ],
      "text/plain": [
       "   vec  out\n",
       "1   1.0 0  \n",
       "2   2.0 0  \n",
       "3   4.0 0  \n",
       "4   5.0 1  \n",
       "5   5.0 1  \n",
       "6   5.0 1  \n",
       "7   6.1 0  \n",
       "8   6.0 0  \n",
       "9   6.2 0  \n",
       "10 -1.0 0  \n",
       "11 -1.0 0  \n",
       "12 -1.0 0  \n",
       "13  8.0 1  \n",
       "14  8.0 1  \n",
       "15  8.0 1  "
      ]
     },
     "metadata": {},
     "output_type": "display_data"
    }
   ],
   "source": [
    "find_duplicated_seq<-function(vec){\n",
    "    #find repeated numbers but exclude -1\n",
    "    lead_vec=dplyr::lead(vec,default=0)\n",
    "    out=as.numeric(vec==lead_vec&vec!=-1)\n",
    "    out=as.numeric(out+dplyr::lag(out,default=0)!=0)\n",
    "    return(out)\n",
    "}\n",
    "df=tibble(vec=c(1,2,4,5,5,5,6.1,6,6.2,-1,-1,-1,8,8,8))\n",
    "df%>%mutate(out=find_duplicated_seq(vec))%>%head(15)"
   ]
  },
  {
   "cell_type": "markdown",
   "metadata": {},
   "source": [
    "## impute n numbers of consecutive NAs"
   ]
  },
  {
   "cell_type": "code",
   "execution_count": 5,
   "metadata": {},
   "outputs": [],
   "source": [
    "# impute_na_dt<-function(vec,dt){\n",
    "#     df=tibble(c=vec)\n",
    "#     df=df%>%mutate(rn=row_number())\n",
    "#     if(is.na(df$c[length(df$c)])){\n",
    "#     df$c[length(df$c)]=tail(df$c[!is.na(df$c)],1)\n",
    "#     }\n",
    "#     if(is.na(df$c[1])){\n",
    "#     df$c[1]=df$c[!is.na(df$c)][1]\n",
    "#     }\n",
    "#     tdf=df%>%filter(!is.na(c))\n",
    "#     tdf_diff=tdf$rn%>%diff()\n",
    "#     len_na=tdf_diff[tdf_diff!=1]-1\n",
    "#     miss_idx=tdf$rn[(tdf_diff!=1)]\n",
    "\n",
    "#     start_idx=miss_idx+1\n",
    "#     end_idx=start_idx+len_na-1\n",
    "\n",
    "#     start_idx_ip=start_idx[len_na<dt]\n",
    "#     end_idx_ip=end_idx[len_na<dt]\n",
    "#     start_idx_na=start_idx[len_na>=dt]\n",
    "#     end_idx_na=end_idx[len_na>=dt]\n",
    "\n",
    "#     dfi=df%>%mutate(c=imputeTS::na.interpolation(df$c))\n",
    "\n",
    "#     for(i in 1:length(start_idx_na)){\n",
    "#     dfi$c[start_idx_na[i]:end_idx_na[i]]=df$c[start_idx_na[i]:end_idx_na[i]]\n",
    "#     }\n",
    "#     return(dfi$c)\n",
    "# }\n",
    "# cc=c(1,2,NA,NA,5,6.1,6,NA,NA,NA,NA,NA,7,7.1,7.2,7.3,NA,NA,NA)\n",
    "# impute_na_dt(vec=cc,dt=4)"
   ]
  },
  {
   "cell_type": "markdown",
   "metadata": {},
   "source": [
    "## slicing\n",
    "Slice dataframe by row number. Negative for disselection. n() for the last row  \n",
    "https://dplyr.tidyverse.org/reference/slice.html\n"
   ]
  },
  {
   "cell_type": "code",
   "execution_count": 6,
   "metadata": {},
   "outputs": [
    {
     "data": {
      "text/html": [
       "<table>\n",
       "<thead><tr><th scope=col>mpg</th><th scope=col>cyl</th><th scope=col>disp</th><th scope=col>hp</th><th scope=col>drat</th><th scope=col>wt</th><th scope=col>qsec</th><th scope=col>vs</th><th scope=col>am</th><th scope=col>gear</th><th scope=col>carb</th></tr></thead>\n",
       "<tbody>\n",
       "\t<tr><td>21.0 </td><td>6    </td><td>160  </td><td>110  </td><td>3.90 </td><td>2.875</td><td>17.02</td><td>0    </td><td>1    </td><td>4    </td><td>4    </td></tr>\n",
       "\t<tr><td>22.8 </td><td>4    </td><td>108  </td><td> 93  </td><td>3.85 </td><td>2.320</td><td>18.61</td><td>1    </td><td>1    </td><td>4    </td><td>1    </td></tr>\n",
       "\t<tr><td>21.4 </td><td>6    </td><td>258  </td><td>110  </td><td>3.08 </td><td>3.215</td><td>19.44</td><td>1    </td><td>0    </td><td>3    </td><td>1    </td></tr>\n",
       "</tbody>\n",
       "</table>\n"
      ],
      "text/latex": [
       "\\begin{tabular}{r|lllllllllll}\n",
       " mpg & cyl & disp & hp & drat & wt & qsec & vs & am & gear & carb\\\\\n",
       "\\hline\n",
       "\t 21.0  & 6     & 160   & 110   & 3.90  & 2.875 & 17.02 & 0     & 1     & 4     & 4    \\\\\n",
       "\t 22.8  & 4     & 108   &  93   & 3.85  & 2.320 & 18.61 & 1     & 1     & 4     & 1    \\\\\n",
       "\t 21.4  & 6     & 258   & 110   & 3.08  & 3.215 & 19.44 & 1     & 0     & 3     & 1    \\\\\n",
       "\\end{tabular}\n"
      ],
      "text/markdown": [
       "\n",
       "| mpg | cyl | disp | hp | drat | wt | qsec | vs | am | gear | carb |\n",
       "|---|---|---|---|---|---|---|---|---|---|---|\n",
       "| 21.0  | 6     | 160   | 110   | 3.90  | 2.875 | 17.02 | 0     | 1     | 4     | 4     |\n",
       "| 22.8  | 4     | 108   |  93   | 3.85  | 2.320 | 18.61 | 1     | 1     | 4     | 1     |\n",
       "| 21.4  | 6     | 258   | 110   | 3.08  | 3.215 | 19.44 | 1     | 0     | 3     | 1     |\n",
       "\n"
      ],
      "text/plain": [
       "  mpg  cyl disp hp  drat wt    qsec  vs am gear carb\n",
       "1 21.0 6   160  110 3.90 2.875 17.02 0  1  4    4   \n",
       "2 22.8 4   108   93 3.85 2.320 18.61 1  1  4    1   \n",
       "3 21.4 6   258  110 3.08 3.215 19.44 1  0  3    1   "
      ]
     },
     "metadata": {},
     "output_type": "display_data"
    }
   ],
   "source": [
    "mtcars%>%as_tibble()%>%slice(1:5)%>%slice(c(-1,-n()))  "
   ]
  },
  {
   "cell_type": "markdown",
   "metadata": {},
   "source": [
    "## transpose of dataframe"
   ]
  },
  {
   "cell_type": "code",
   "execution_count": 8,
   "metadata": {
    "scrolled": true
   },
   "outputs": [
    {
     "data": {
      "text/html": [
       "<table>\n",
       "<thead><tr><th scope=col>channel</th><th scope=col>type01</th><th scope=col>type02</th><th scope=col>type03</th><th scope=col>type04</th></tr></thead>\n",
       "<tbody>\n",
       "\t<tr><td>c01      </td><td>ahu1     </td><td>ahu1     </td><td>ahu1     </td><td>disposal </td></tr>\n",
       "\t<tr><td>c02      </td><td>disposal </td><td>disposal </td><td>ahu2     </td><td>ahu1     </td></tr>\n",
       "\t<tr><td>c03      </td><td>ahu2     </td><td>kitchen1 </td><td>disposal </td><td>ahu2     </td></tr>\n",
       "\t<tr><td>c04      </td><td>kitchen1 </td><td>ahu2     </td><td>kitchen1 </td><td>kitchen1 </td></tr>\n",
       "\t<tr><td>c05      </td><td>microwave</td><td>light    </td><td>room     </td><td>living   </td></tr>\n",
       "</tbody>\n",
       "</table>\n"
      ],
      "text/latex": [
       "\\begin{tabular}{r|lllll}\n",
       " channel & type01 & type02 & type03 & type04\\\\\n",
       "\\hline\n",
       "\t c01       & ahu1      & ahu1      & ahu1      & disposal \\\\\n",
       "\t c02       & disposal  & disposal  & ahu2      & ahu1     \\\\\n",
       "\t c03       & ahu2      & kitchen1  & disposal  & ahu2     \\\\\n",
       "\t c04       & kitchen1  & ahu2      & kitchen1  & kitchen1 \\\\\n",
       "\t c05       & microwave & light     & room      & living   \\\\\n",
       "\\end{tabular}\n"
      ],
      "text/markdown": [
       "\n",
       "| channel | type01 | type02 | type03 | type04 |\n",
       "|---|---|---|---|---|\n",
       "| c01       | ahu1      | ahu1      | ahu1      | disposal  |\n",
       "| c02       | disposal  | disposal  | ahu2      | ahu1      |\n",
       "| c03       | ahu2      | kitchen1  | disposal  | ahu2      |\n",
       "| c04       | kitchen1  | ahu2      | kitchen1  | kitchen1  |\n",
       "| c05       | microwave | light     | room      | living    |\n",
       "\n"
      ],
      "text/plain": [
       "  channel type01    type02   type03   type04  \n",
       "1 c01     ahu1      ahu1     ahu1     disposal\n",
       "2 c02     disposal  disposal ahu2     ahu1    \n",
       "3 c03     ahu2      kitchen1 disposal ahu2    \n",
       "4 c04     kitchen1  ahu2     kitchen1 kitchen1\n",
       "5 c05     microwave light    room     living  "
      ]
     },
     "metadata": {},
     "output_type": "display_data"
    },
    {
     "name": "stdout",
     "output_type": "stream",
     "text": [
      "[1] \"Transposed dataframe\"\n"
     ]
    },
    {
     "data": {
      "text/html": [
       "<table>\n",
       "<thead><tr><th scope=col>var_name</th><th scope=col>c01</th><th scope=col>c02</th><th scope=col>c03</th><th scope=col>c04</th><th scope=col>c05</th></tr></thead>\n",
       "<tbody>\n",
       "\t<tr><td>type01   </td><td>ahu1     </td><td>disposal </td><td>ahu2     </td><td>kitchen1 </td><td>microwave</td></tr>\n",
       "\t<tr><td>type02   </td><td>ahu1     </td><td>disposal </td><td>kitchen1 </td><td>ahu2     </td><td>light    </td></tr>\n",
       "\t<tr><td>type03   </td><td>ahu1     </td><td>ahu2     </td><td>disposal </td><td>kitchen1 </td><td>room     </td></tr>\n",
       "\t<tr><td>type04   </td><td>disposal </td><td>ahu1     </td><td>ahu2     </td><td>kitchen1 </td><td>living   </td></tr>\n",
       "</tbody>\n",
       "</table>\n"
      ],
      "text/latex": [
       "\\begin{tabular}{r|llllll}\n",
       " var\\_name & c01 & c02 & c03 & c04 & c05\\\\\n",
       "\\hline\n",
       "\t type01    & ahu1      & disposal  & ahu2      & kitchen1  & microwave\\\\\n",
       "\t type02    & ahu1      & disposal  & kitchen1  & ahu2      & light    \\\\\n",
       "\t type03    & ahu1      & ahu2      & disposal  & kitchen1  & room     \\\\\n",
       "\t type04    & disposal  & ahu1      & ahu2      & kitchen1  & living   \\\\\n",
       "\\end{tabular}\n"
      ],
      "text/markdown": [
       "\n",
       "| var_name | c01 | c02 | c03 | c04 | c05 |\n",
       "|---|---|---|---|---|---|\n",
       "| type01    | ahu1      | disposal  | ahu2      | kitchen1  | microwave |\n",
       "| type02    | ahu1      | disposal  | kitchen1  | ahu2      | light     |\n",
       "| type03    | ahu1      | ahu2      | disposal  | kitchen1  | room      |\n",
       "| type04    | disposal  | ahu1      | ahu2      | kitchen1  | living    |\n",
       "\n"
      ],
      "text/plain": [
       "  var_name c01      c02      c03      c04      c05      \n",
       "1 type01   ahu1     disposal ahu2     kitchen1 microwave\n",
       "2 type02   ahu1     disposal kitchen1 ahu2     light    \n",
       "3 type03   ahu1     ahu2     disposal kitchen1 room     \n",
       "4 type04   disposal ahu1     ahu2     kitchen1 living   "
      ]
     },
     "metadata": {},
     "output_type": "display_data"
    }
   ],
   "source": [
    "#dataframe transpose\n",
    "mapping=tibble(channel=c(\"c01\",\"c02\",\"c03\",\"c04\",\"c05\"),\n",
    "              type01=c(\"ahu1\",\"disposal\",\"ahu2\",\"kitchen1\",\"microwave\"),\n",
    "              type02=c(\"ahu1\",\"disposal\",\"kitchen1\",\"ahu2\",\"light\"),\n",
    "              type03=c(\"ahu1\",\"ahu2\",\"disposal\",\"kitchen1\",\"room\"),\n",
    "              type04=c(\"disposal\",\"ahu1\",\"ahu2\",\"kitchen1\",\"living\"))\n",
    "head(mapping)\n",
    "print(\"Transposed dataframe\")\n",
    "# should be updated for pivot_wider / pivot_longer when R 4.0 is available.\n",
    "mapping %>%\n",
    "  gather(key = var_name, value = value, -1) %>%\n",
    "  spread_(key = names(mapping)[1],value = 'value')%>%head()\n"
   ]
  },
  {
   "cell_type": "markdown",
   "metadata": {},
   "source": [
    "## select columns by conditions"
   ]
  },
  {
   "cell_type": "code",
   "execution_count": 9,
   "metadata": {
    "scrolled": true
   },
   "outputs": [
    {
     "name": "stdout",
     "output_type": "stream",
     "text": [
      "[1] \"all df\"\n"
     ]
    },
    {
     "data": {
      "text/html": [
       "<table>\n",
       "<thead><tr><th scope=col>x</th><th scope=col>y</th><th scope=col>z</th><th scope=col>x1</th></tr></thead>\n",
       "<tbody>\n",
       "\t<tr><td>1 </td><td>1 </td><td>NA</td><td>2 </td></tr>\n",
       "\t<tr><td>0 </td><td>2 </td><td>NA</td><td>3 </td></tr>\n",
       "\t<tr><td>0 </td><td>3 </td><td>NA</td><td>2 </td></tr>\n",
       "\t<tr><td>1 </td><td>4 </td><td>NA</td><td>3 </td></tr>\n",
       "</tbody>\n",
       "</table>\n"
      ],
      "text/latex": [
       "\\begin{tabular}{r|llll}\n",
       " x & y & z & x1\\\\\n",
       "\\hline\n",
       "\t 1  & 1  & NA & 2 \\\\\n",
       "\t 0  & 2  & NA & 3 \\\\\n",
       "\t 0  & 3  & NA & 2 \\\\\n",
       "\t 1  & 4  & NA & 3 \\\\\n",
       "\\end{tabular}\n"
      ],
      "text/markdown": [
       "\n",
       "| x | y | z | x1 |\n",
       "|---|---|---|---|\n",
       "| 1  | 1  | NA | 2  |\n",
       "| 0  | 2  | NA | 3  |\n",
       "| 0  | 3  | NA | 2  |\n",
       "| 1  | 4  | NA | 3  |\n",
       "\n"
      ],
      "text/plain": [
       "  x y z  x1\n",
       "1 1 1 NA 2 \n",
       "2 0 2 NA 3 \n",
       "3 0 3 NA 2 \n",
       "4 1 4 NA 3 "
      ]
     },
     "metadata": {},
     "output_type": "display_data"
    },
    {
     "name": "stdout",
     "output_type": "stream",
     "text": [
      "[1] \"select columns that do not have any NA value and two unique values\"\n"
     ]
    },
    {
     "data": {
      "text/html": [
       "<table>\n",
       "<thead><tr><th scope=col>x</th><th scope=col>x1</th></tr></thead>\n",
       "<tbody>\n",
       "\t<tr><td>1</td><td>2</td></tr>\n",
       "\t<tr><td>0</td><td>3</td></tr>\n",
       "\t<tr><td>0</td><td>2</td></tr>\n",
       "\t<tr><td>1</td><td>3</td></tr>\n",
       "</tbody>\n",
       "</table>\n"
      ],
      "text/latex": [
       "\\begin{tabular}{r|ll}\n",
       " x & x1\\\\\n",
       "\\hline\n",
       "\t 1 & 2\\\\\n",
       "\t 0 & 3\\\\\n",
       "\t 0 & 2\\\\\n",
       "\t 1 & 3\\\\\n",
       "\\end{tabular}\n"
      ],
      "text/markdown": [
       "\n",
       "| x | x1 |\n",
       "|---|---|\n",
       "| 1 | 2 |\n",
       "| 0 | 3 |\n",
       "| 0 | 2 |\n",
       "| 1 | 3 |\n",
       "\n"
      ],
      "text/plain": [
       "  x x1\n",
       "1 1 2 \n",
       "2 0 3 \n",
       "3 0 2 \n",
       "4 1 3 "
      ]
     },
     "metadata": {},
     "output_type": "display_data"
    },
    {
     "data": {
      "text/html": [
       "<table>\n",
       "<thead><tr><th scope=col>x</th><th scope=col>x1</th></tr></thead>\n",
       "<tbody>\n",
       "\t<tr><td>1</td><td>2</td></tr>\n",
       "\t<tr><td>0</td><td>3</td></tr>\n",
       "\t<tr><td>0</td><td>2</td></tr>\n",
       "\t<tr><td>1</td><td>3</td></tr>\n",
       "</tbody>\n",
       "</table>\n"
      ],
      "text/latex": [
       "\\begin{tabular}{r|ll}\n",
       " x & x1\\\\\n",
       "\\hline\n",
       "\t 1 & 2\\\\\n",
       "\t 0 & 3\\\\\n",
       "\t 0 & 2\\\\\n",
       "\t 1 & 3\\\\\n",
       "\\end{tabular}\n"
      ],
      "text/markdown": [
       "\n",
       "| x | x1 |\n",
       "|---|---|\n",
       "| 1 | 2 |\n",
       "| 0 | 3 |\n",
       "| 0 | 2 |\n",
       "| 1 | 3 |\n",
       "\n"
      ],
      "text/plain": [
       "  x x1\n",
       "1 1 2 \n",
       "2 0 3 \n",
       "3 0 2 \n",
       "4 1 3 "
      ]
     },
     "metadata": {},
     "output_type": "display_data"
    }
   ],
   "source": [
    "df=tibble(x=c(1,0,0,1),y=c(1,2,3,4),z=rep(NA_real_,4),x1=c(2,3,2,3))\n",
    "print(\"all df\")\n",
    "df\n",
    "print(\"select columns that do not have any NA value and two unique values\")\n",
    "df%>%select_if(list(~(length(unique(.))==2)&(!anyNA(.))))\n",
    "df%>%select_if(list(~(n_distinct(.)==2)&(!anyNA(.))))"
   ]
  },
  {
   "cell_type": "markdown",
   "metadata": {},
   "source": [
    "## rolling joins through data.table"
   ]
  },
  {
   "cell_type": "code",
   "execution_count": 2,
   "metadata": {},
   "outputs": [],
   "source": [
    "\n",
    "ecobee_changes <- data.table(\n",
    "  change_id = c(\"c1\", \"c2\", \"c3\", \"c4\"),\n",
    "  change_time = ymd_hms(c(\"2020-11-10 15:05:00\", \"2020-11-10 16:15:00\", \"2020-11-10 16:20:00\", \"2020-11-10 17:30:00\"))\n",
    ")\n",
    "\n",
    "interactions <- data.table(\n",
    "  interaction_id = c(\"i1\",\"i2\",\"i3\"),\n",
    "  interaction_time = ymd_hms(c(\"2020-11-10 16:17:30\", \"2020-11-10 16:19:25\",  \"2020-11-10 17:31:30\"))\n",
    ")\n"
   ]
  },
  {
   "cell_type": "code",
   "execution_count": 3,
   "metadata": {
    "scrolled": true
   },
   "outputs": [
    {
     "name": "stderr",
     "output_type": "stream",
     "text": [
      "Joining, by = c(\"change_id\", \"change_time\")\n"
     ]
    },
    {
     "data": {
      "text/html": [
       "<table>\n",
       "<thead><tr><th scope=col>change_id</th><th scope=col>change_time</th><th scope=col>action_time</th><th scope=col>interaction_id</th><th scope=col>interaction_time</th></tr></thead>\n",
       "<tbody>\n",
       "\t<tr><td>c1                 </td><td>2020-11-10 15:05:00</td><td>NA                 </td><td>NA                 </td><td>NA                 </td></tr>\n",
       "\t<tr><td>c2                 </td><td>2020-11-10 16:15:00</td><td>2020-11-10 16:17:30</td><td>i1                 </td><td>2020-11-10 16:17:30</td></tr>\n",
       "\t<tr><td>c3                 </td><td>2020-11-10 16:20:00</td><td>2020-11-10 16:19:25</td><td>i2                 </td><td>2020-11-10 16:19:25</td></tr>\n",
       "\t<tr><td>c4                 </td><td>2020-11-10 17:30:00</td><td>2020-11-10 17:31:30</td><td>i3                 </td><td>2020-11-10 17:31:30</td></tr>\n",
       "</tbody>\n",
       "</table>\n"
      ],
      "text/latex": [
       "\\begin{tabular}{r|lllll}\n",
       " change\\_id & change\\_time & action\\_time & interaction\\_id & interaction\\_time\\\\\n",
       "\\hline\n",
       "\t c1                  & 2020-11-10 15:05:00 & NA                  & NA                  & NA                 \\\\\n",
       "\t c2                  & 2020-11-10 16:15:00 & 2020-11-10 16:17:30 & i1                  & 2020-11-10 16:17:30\\\\\n",
       "\t c3                  & 2020-11-10 16:20:00 & 2020-11-10 16:19:25 & i2                  & 2020-11-10 16:19:25\\\\\n",
       "\t c4                  & 2020-11-10 17:30:00 & 2020-11-10 17:31:30 & i3                  & 2020-11-10 17:31:30\\\\\n",
       "\\end{tabular}\n"
      ],
      "text/markdown": [
       "\n",
       "| change_id | change_time | action_time | interaction_id | interaction_time |\n",
       "|---|---|---|---|---|\n",
       "| c1                  | 2020-11-10 15:05:00 | NA                  | NA                  | NA                  |\n",
       "| c2                  | 2020-11-10 16:15:00 | 2020-11-10 16:17:30 | i1                  | 2020-11-10 16:17:30 |\n",
       "| c3                  | 2020-11-10 16:20:00 | 2020-11-10 16:19:25 | i2                  | 2020-11-10 16:19:25 |\n",
       "| c4                  | 2020-11-10 17:30:00 | 2020-11-10 17:31:30 | i3                  | 2020-11-10 17:31:30 |\n",
       "\n"
      ],
      "text/plain": [
       "  change_id change_time         action_time         interaction_id\n",
       "1 c1        2020-11-10 15:05:00 <NA>                NA            \n",
       "2 c2        2020-11-10 16:15:00 2020-11-10 16:17:30 i1            \n",
       "3 c3        2020-11-10 16:20:00 2020-11-10 16:19:25 i2            \n",
       "4 c4        2020-11-10 17:30:00 2020-11-10 17:31:30 i3            \n",
       "  interaction_time   \n",
       "1 <NA>               \n",
       "2 2020-11-10 16:17:30\n",
       "3 2020-11-10 16:19:25\n",
       "4 2020-11-10 17:31:30"
      ]
     },
     "metadata": {},
     "output_type": "display_data"
    }
   ],
   "source": [
    "\n",
    "ecobee_changes[, action_time := change_time]\n",
    "interactions[, action_time := interaction_time]\n",
    "\n",
    "setkey(ecobee_changes, \"action_time\")\n",
    "setkey(interactions, \"action_time\")\n",
    "\n",
    "\n",
    "out=as_tibble(ecobee_changes)%>%select(-action_time)%>%\n",
    "  left_join(as_tibble(ecobee_changes[interactions, roll = \"nearest\"]),on=c(\"change_time\",\"change_id\"))\n",
    "\n",
    "out\n",
    "#interactions[ecobee_changes, roll = \"nearest\"]%>%as_tibble()%>%filter(distinct())\n"
   ]
  },
  {
   "cell_type": "code",
   "execution_count": 4,
   "metadata": {},
   "outputs": [
    {
     "data": {
      "text/html": [
       "<table>\n",
       "<thead><tr><th scope=col>eventid</th><th scope=col>start</th><th scope=col>end</th></tr></thead>\n",
       "<tbody>\n",
       "\t<tr><td>1                  </td><td>2016-10-01 04:30:00</td><td>2016-10-01 05:43:00</td></tr>\n",
       "\t<tr><td>2                  </td><td>2016-10-01 18:02:00</td><td>2016-10-02 01:23:00</td></tr>\n",
       "\t<tr><td>3                  </td><td>2016-10-02 14:21:00</td><td>2016-10-04 08:54:00</td></tr>\n",
       "</tbody>\n",
       "</table>\n"
      ],
      "text/latex": [
       "\\begin{tabular}{r|lll}\n",
       " eventid & start & end\\\\\n",
       "\\hline\n",
       "\t 1                   & 2016-10-01 04:30:00 & 2016-10-01 05:43:00\\\\\n",
       "\t 2                   & 2016-10-01 18:02:00 & 2016-10-02 01:23:00\\\\\n",
       "\t 3                   & 2016-10-02 14:21:00 & 2016-10-04 08:54:00\\\\\n",
       "\\end{tabular}\n"
      ],
      "text/markdown": [
       "\n",
       "| eventid | start | end |\n",
       "|---|---|---|\n",
       "| 1                   | 2016-10-01 04:30:00 | 2016-10-01 05:43:00 |\n",
       "| 2                   | 2016-10-01 18:02:00 | 2016-10-02 01:23:00 |\n",
       "| 3                   | 2016-10-02 14:21:00 | 2016-10-04 08:54:00 |\n",
       "\n"
      ],
      "text/plain": [
       "  eventid start               end                \n",
       "1 1       2016-10-01 04:30:00 2016-10-01 05:43:00\n",
       "2 2       2016-10-01 18:02:00 2016-10-02 01:23:00\n",
       "3 3       2016-10-02 14:21:00 2016-10-04 08:54:00"
      ]
     },
     "metadata": {},
     "output_type": "display_data"
    },
    {
     "data": {
      "text/html": [
       "<table>\n",
       "<thead><tr><th scope=col>date</th><th scope=col>start</th><th scope=col>end</th></tr></thead>\n",
       "<tbody>\n",
       "\t<tr><td>10/1/2016          </td><td>2016-10-01         </td><td>2016-10-01 23:59:59</td></tr>\n",
       "\t<tr><td>10/2/2016          </td><td>2016-10-02         </td><td>2016-10-02 23:59:59</td></tr>\n",
       "\t<tr><td>10/3/2016          </td><td>2016-10-03         </td><td>2016-10-03 23:59:59</td></tr>\n",
       "\t<tr><td>10/4/2016          </td><td>2016-10-04         </td><td>2016-10-04 23:59:59</td></tr>\n",
       "\t<tr><td>10/5/2016          </td><td>2016-10-05         </td><td>2016-10-05 23:59:59</td></tr>\n",
       "\t<tr><td>10/6/2016          </td><td>2016-10-06         </td><td>2016-10-06 23:59:59</td></tr>\n",
       "</tbody>\n",
       "</table>\n"
      ],
      "text/latex": [
       "\\begin{tabular}{r|lll}\n",
       " date & start & end\\\\\n",
       "\\hline\n",
       "\t 10/1/2016           & 2016-10-01          & 2016-10-01 23:59:59\\\\\n",
       "\t 10/2/2016           & 2016-10-02          & 2016-10-02 23:59:59\\\\\n",
       "\t 10/3/2016           & 2016-10-03          & 2016-10-03 23:59:59\\\\\n",
       "\t 10/4/2016           & 2016-10-04          & 2016-10-04 23:59:59\\\\\n",
       "\t 10/5/2016           & 2016-10-05          & 2016-10-05 23:59:59\\\\\n",
       "\t 10/6/2016           & 2016-10-06          & 2016-10-06 23:59:59\\\\\n",
       "\\end{tabular}\n"
      ],
      "text/markdown": [
       "\n",
       "| date | start | end |\n",
       "|---|---|---|\n",
       "| 10/1/2016           | 2016-10-01          | 2016-10-01 23:59:59 |\n",
       "| 10/2/2016           | 2016-10-02          | 2016-10-02 23:59:59 |\n",
       "| 10/3/2016           | 2016-10-03          | 2016-10-03 23:59:59 |\n",
       "| 10/4/2016           | 2016-10-04          | 2016-10-04 23:59:59 |\n",
       "| 10/5/2016           | 2016-10-05          | 2016-10-05 23:59:59 |\n",
       "| 10/6/2016           | 2016-10-06          | 2016-10-06 23:59:59 |\n",
       "\n"
      ],
      "text/plain": [
       "  date      start      end                \n",
       "1 10/1/2016 2016-10-01 2016-10-01 23:59:59\n",
       "2 10/2/2016 2016-10-02 2016-10-02 23:59:59\n",
       "3 10/3/2016 2016-10-03 2016-10-03 23:59:59\n",
       "4 10/4/2016 2016-10-04 2016-10-04 23:59:59\n",
       "5 10/5/2016 2016-10-05 2016-10-05 23:59:59\n",
       "6 10/6/2016 2016-10-06 2016-10-06 23:59:59"
      ]
     },
     "metadata": {},
     "output_type": "display_data"
    },
    {
     "data": {
      "text/html": [
       "<table>\n",
       "<thead><tr><th scope=col>date</th><th scope=col>start</th><th scope=col>end</th><th scope=col>eventid</th><th scope=col>i.start</th><th scope=col>i.end</th></tr></thead>\n",
       "<tbody>\n",
       "\t<tr><td>10/1/2016          </td><td>2016-10-01         </td><td>2016-10-01 23:59:59</td><td>1                  </td><td>2016-10-01 04:30:00</td><td>2016-10-01 05:43:00</td></tr>\n",
       "\t<tr><td>10/1/2016          </td><td>2016-10-01         </td><td>2016-10-01 23:59:59</td><td>2                  </td><td>2016-10-01 18:02:00</td><td>2016-10-02 01:23:00</td></tr>\n",
       "\t<tr><td>10/2/2016          </td><td>2016-10-02         </td><td>2016-10-02 23:59:59</td><td>2                  </td><td>2016-10-01 18:02:00</td><td>2016-10-02 01:23:00</td></tr>\n",
       "\t<tr><td>10/2/2016          </td><td>2016-10-02         </td><td>2016-10-02 23:59:59</td><td>3                  </td><td>2016-10-02 14:21:00</td><td>2016-10-04 08:54:00</td></tr>\n",
       "\t<tr><td>10/3/2016          </td><td>2016-10-03         </td><td>2016-10-03 23:59:59</td><td>3                  </td><td>2016-10-02 14:21:00</td><td>2016-10-04 08:54:00</td></tr>\n",
       "\t<tr><td>10/4/2016          </td><td>2016-10-04         </td><td>2016-10-04 23:59:59</td><td>3                  </td><td>2016-10-02 14:21:00</td><td>2016-10-04 08:54:00</td></tr>\n",
       "</tbody>\n",
       "</table>\n"
      ],
      "text/latex": [
       "\\begin{tabular}{r|llllll}\n",
       " date & start & end & eventid & i.start & i.end\\\\\n",
       "\\hline\n",
       "\t 10/1/2016           & 2016-10-01          & 2016-10-01 23:59:59 & 1                   & 2016-10-01 04:30:00 & 2016-10-01 05:43:00\\\\\n",
       "\t 10/1/2016           & 2016-10-01          & 2016-10-01 23:59:59 & 2                   & 2016-10-01 18:02:00 & 2016-10-02 01:23:00\\\\\n",
       "\t 10/2/2016           & 2016-10-02          & 2016-10-02 23:59:59 & 2                   & 2016-10-01 18:02:00 & 2016-10-02 01:23:00\\\\\n",
       "\t 10/2/2016           & 2016-10-02          & 2016-10-02 23:59:59 & 3                   & 2016-10-02 14:21:00 & 2016-10-04 08:54:00\\\\\n",
       "\t 10/3/2016           & 2016-10-03          & 2016-10-03 23:59:59 & 3                   & 2016-10-02 14:21:00 & 2016-10-04 08:54:00\\\\\n",
       "\t 10/4/2016           & 2016-10-04          & 2016-10-04 23:59:59 & 3                   & 2016-10-02 14:21:00 & 2016-10-04 08:54:00\\\\\n",
       "\\end{tabular}\n"
      ],
      "text/markdown": [
       "\n",
       "| date | start | end | eventid | i.start | i.end |\n",
       "|---|---|---|---|---|---|\n",
       "| 10/1/2016           | 2016-10-01          | 2016-10-01 23:59:59 | 1                   | 2016-10-01 04:30:00 | 2016-10-01 05:43:00 |\n",
       "| 10/1/2016           | 2016-10-01          | 2016-10-01 23:59:59 | 2                   | 2016-10-01 18:02:00 | 2016-10-02 01:23:00 |\n",
       "| 10/2/2016           | 2016-10-02          | 2016-10-02 23:59:59 | 2                   | 2016-10-01 18:02:00 | 2016-10-02 01:23:00 |\n",
       "| 10/2/2016           | 2016-10-02          | 2016-10-02 23:59:59 | 3                   | 2016-10-02 14:21:00 | 2016-10-04 08:54:00 |\n",
       "| 10/3/2016           | 2016-10-03          | 2016-10-03 23:59:59 | 3                   | 2016-10-02 14:21:00 | 2016-10-04 08:54:00 |\n",
       "| 10/4/2016           | 2016-10-04          | 2016-10-04 23:59:59 | 3                   | 2016-10-02 14:21:00 | 2016-10-04 08:54:00 |\n",
       "\n"
      ],
      "text/plain": [
       "  date      start      end                 eventid i.start            \n",
       "1 10/1/2016 2016-10-01 2016-10-01 23:59:59 1       2016-10-01 04:30:00\n",
       "2 10/1/2016 2016-10-01 2016-10-01 23:59:59 2       2016-10-01 18:02:00\n",
       "3 10/2/2016 2016-10-02 2016-10-02 23:59:59 2       2016-10-01 18:02:00\n",
       "4 10/2/2016 2016-10-02 2016-10-02 23:59:59 3       2016-10-02 14:21:00\n",
       "5 10/3/2016 2016-10-03 2016-10-03 23:59:59 3       2016-10-02 14:21:00\n",
       "6 10/4/2016 2016-10-04 2016-10-04 23:59:59 3       2016-10-02 14:21:00\n",
       "  i.end              \n",
       "1 2016-10-01 05:43:00\n",
       "2 2016-10-02 01:23:00\n",
       "3 2016-10-02 01:23:00\n",
       "4 2016-10-04 08:54:00\n",
       "5 2016-10-04 08:54:00\n",
       "6 2016-10-04 08:54:00"
      ]
     },
     "metadata": {},
     "output_type": "display_data"
    }
   ],
   "source": [
    "x = data.table(\n",
    "  eventid=c(1,2,3),\n",
    "  start  =mdy_hms(c('10/1/2016 04:30:00','10/1/2016 18:02:00','10/2/2016 14:21:00')),\n",
    "  end    =mdy_hms(c('10/1/2016 05:43:00','10/2/2016 01:23:00','10/4/2016 08:54:00'))\n",
    ")\n",
    "\n",
    "#y is a data table with a list of all dates\n",
    "y = data.table(\n",
    "  date =c('10/1/2016','10/2/2016','10/3/2016','10/4/2016','10/5/2016','10/6/2016'),\n",
    "  start=mdy_hms(c('10/1/2016 00:00:00','10/2/2016 00:00:00','10/3/2016 00:00:00','10/4/2016 00:00:00','10/5/2016 00:00:00','10/6/2016 00:00:00')),\n",
    "  end  =mdy_hms(c('10/1/2016 23:59:59','10/2/2016 23:59:59','10/3/2016 23:59:59','10/4/2016 23:59:59','10/5/2016 23:59:59','10/6/2016 23:59:59'))\n",
    "  )\n",
    "\n",
    "#set the key on y to match with\n",
    "setkey(y,\"start\",\"end\")\n",
    "\n",
    "#use the foverlaps function to match\n",
    "#\n",
    "#note that eventid 1 matches one date only\n",
    "#          eventid 2 matches two dates\n",
    "#          eventid 3 matches three dates\n",
    "#\n",
    "result <- foverlaps(x,y,type=\"any\")\n",
    "\n",
    "#show results\n",
    "x\n",
    "y\n",
    "\n",
    "result\n"
   ]
  },
  {
   "cell_type": "markdown",
   "metadata": {},
   "source": [
    "# purrr\n"
   ]
  },
  {
   "cell_type": "markdown",
   "metadata": {},
   "source": [
    "Purrr is useful when to wrap a function for a tibble with vectorization. \n",
    "\n",
    "`map` might be a general language, but I use `pmap_x` for general use."
   ]
  },
  {
   "cell_type": "code",
   "execution_count": 81,
   "metadata": {},
   "outputs": [
    {
     "data": {
      "text/html": [
       "<table>\n",
       "<thead><tr><th scope=col>mpg</th><th scope=col>cyl</th><th scope=col>disp</th><th scope=col>hp</th><th scope=col>drat</th><th scope=col>wt</th><th scope=col>qsec</th><th scope=col>vs</th><th scope=col>am</th><th scope=col>gear</th><th scope=col>carb</th><th scope=col>new</th></tr></thead>\n",
       "<tbody>\n",
       "\t<tr><td>21.0 </td><td>6    </td><td>160  </td><td>110  </td><td>3.90 </td><td>2.620</td><td>16.46</td><td>0    </td><td>1    </td><td>4    </td><td>4    </td><td>164.0</td></tr>\n",
       "\t<tr><td>21.0 </td><td>6    </td><td>160  </td><td>110  </td><td>3.90 </td><td>2.875</td><td>17.02</td><td>0    </td><td>1    </td><td>4    </td><td>4    </td><td>164.0</td></tr>\n",
       "\t<tr><td>22.8 </td><td>4    </td><td>108  </td><td> 93  </td><td>3.85 </td><td>2.320</td><td>18.61</td><td>1    </td><td>1    </td><td>4    </td><td>1    </td><td>109.2</td></tr>\n",
       "\t<tr><td>21.4 </td><td>6    </td><td>258  </td><td>110  </td><td>3.08 </td><td>3.215</td><td>19.44</td><td>1    </td><td>0    </td><td>3    </td><td>1    </td><td>166.4</td></tr>\n",
       "\t<tr><td>18.7 </td><td>8    </td><td>360  </td><td>175  </td><td>3.15 </td><td>3.440</td><td>17.02</td><td>0    </td><td>0    </td><td>3    </td><td>2    </td><td>215.6</td></tr>\n",
       "\t<tr><td>18.1 </td><td>6    </td><td>225  </td><td>105  </td><td>2.76 </td><td>3.460</td><td>20.22</td><td>1    </td><td>0    </td><td>3    </td><td>1    </td><td>146.6</td></tr>\n",
       "</tbody>\n",
       "</table>\n"
      ],
      "text/latex": [
       "\\begin{tabular}{r|llllllllllll}\n",
       " mpg & cyl & disp & hp & drat & wt & qsec & vs & am & gear & carb & new\\\\\n",
       "\\hline\n",
       "\t 21.0  & 6     & 160   & 110   & 3.90  & 2.620 & 16.46 & 0     & 1     & 4     & 4     & 164.0\\\\\n",
       "\t 21.0  & 6     & 160   & 110   & 3.90  & 2.875 & 17.02 & 0     & 1     & 4     & 4     & 164.0\\\\\n",
       "\t 22.8  & 4     & 108   &  93   & 3.85  & 2.320 & 18.61 & 1     & 1     & 4     & 1     & 109.2\\\\\n",
       "\t 21.4  & 6     & 258   & 110   & 3.08  & 3.215 & 19.44 & 1     & 0     & 3     & 1     & 166.4\\\\\n",
       "\t 18.7  & 8     & 360   & 175   & 3.15  & 3.440 & 17.02 & 0     & 0     & 3     & 2     & 215.6\\\\\n",
       "\t 18.1  & 6     & 225   & 105   & 2.76  & 3.460 & 20.22 & 1     & 0     & 3     & 1     & 146.6\\\\\n",
       "\\end{tabular}\n"
      ],
      "text/markdown": [
       "\n",
       "| mpg | cyl | disp | hp | drat | wt | qsec | vs | am | gear | carb | new |\n",
       "|---|---|---|---|---|---|---|---|---|---|---|---|\n",
       "| 21.0  | 6     | 160   | 110   | 3.90  | 2.620 | 16.46 | 0     | 1     | 4     | 4     | 164.0 |\n",
       "| 21.0  | 6     | 160   | 110   | 3.90  | 2.875 | 17.02 | 0     | 1     | 4     | 4     | 164.0 |\n",
       "| 22.8  | 4     | 108   |  93   | 3.85  | 2.320 | 18.61 | 1     | 1     | 4     | 1     | 109.2 |\n",
       "| 21.4  | 6     | 258   | 110   | 3.08  | 3.215 | 19.44 | 1     | 0     | 3     | 1     | 166.4 |\n",
       "| 18.7  | 8     | 360   | 175   | 3.15  | 3.440 | 17.02 | 0     | 0     | 3     | 2     | 215.6 |\n",
       "| 18.1  | 6     | 225   | 105   | 2.76  | 3.460 | 20.22 | 1     | 0     | 3     | 1     | 146.6 |\n",
       "\n"
      ],
      "text/plain": [
       "  mpg  cyl disp hp  drat wt    qsec  vs am gear carb new  \n",
       "1 21.0 6   160  110 3.90 2.620 16.46 0  1  4    4    164.0\n",
       "2 21.0 6   160  110 3.90 2.875 17.02 0  1  4    4    164.0\n",
       "3 22.8 4   108   93 3.85 2.320 18.61 1  1  4    1    109.2\n",
       "4 21.4 6   258  110 3.08 3.215 19.44 1  0  3    1    166.4\n",
       "5 18.7 8   360  175 3.15 3.440 17.02 0  0  3    2    215.6\n",
       "6 18.1 6   225  105 2.76 3.460 20.22 1  0  3    1    146.6"
      ]
     },
     "metadata": {},
     "output_type": "display_data"
    }
   ],
   "source": [
    "mtcars%>%\n",
    "    as_tibble()%>%\n",
    "    mutate(new=pmap_dbl(list(mpg,cyl),\n",
    "                        function(x,y){x*y+y^2+2}))%>%head()"
   ]
  },
  {
   "cell_type": "code",
   "execution_count": 82,
   "metadata": {},
   "outputs": [],
   "source": [
    "custom_if_else=function(x,y){\n",
    "    if (x==6 & y<=21){\n",
    "        out=\"type1\"\n",
    "    }else if (x==8 & y<18.5){\n",
    "        out=\"type2\"\n",
    "    }else{\n",
    "        out=\"type3\"\n",
    "    }\n",
    "    return (out)\n",
    "}"
   ]
  },
  {
   "cell_type": "code",
   "execution_count": 83,
   "metadata": {},
   "outputs": [
    {
     "data": {
      "text/html": [
       "<table>\n",
       "<thead><tr><th scope=col>mpg</th><th scope=col>cyl</th><th scope=col>disp</th><th scope=col>hp</th><th scope=col>drat</th><th scope=col>wt</th><th scope=col>qsec</th><th scope=col>vs</th><th scope=col>am</th><th scope=col>gear</th><th scope=col>carb</th><th scope=col>type</th></tr></thead>\n",
       "<tbody>\n",
       "\t<tr><td>21.0 </td><td>6    </td><td>160  </td><td>110  </td><td>3.90 </td><td>2.620</td><td>16.46</td><td>0    </td><td>1    </td><td>4    </td><td>4    </td><td>type3</td></tr>\n",
       "\t<tr><td>21.0 </td><td>6    </td><td>160  </td><td>110  </td><td>3.90 </td><td>2.875</td><td>17.02</td><td>0    </td><td>1    </td><td>4    </td><td>4    </td><td>type3</td></tr>\n",
       "\t<tr><td>22.8 </td><td>4    </td><td>108  </td><td> 93  </td><td>3.85 </td><td>2.320</td><td>18.61</td><td>1    </td><td>1    </td><td>4    </td><td>1    </td><td>type3</td></tr>\n",
       "\t<tr><td>21.4 </td><td>6    </td><td>258  </td><td>110  </td><td>3.08 </td><td>3.215</td><td>19.44</td><td>1    </td><td>0    </td><td>3    </td><td>1    </td><td>type3</td></tr>\n",
       "\t<tr><td>18.7 </td><td>8    </td><td>360  </td><td>175  </td><td>3.15 </td><td>3.440</td><td>17.02</td><td>0    </td><td>0    </td><td>3    </td><td>2    </td><td>type3</td></tr>\n",
       "\t<tr><td>18.1 </td><td>6    </td><td>225  </td><td>105  </td><td>2.76 </td><td>3.460</td><td>20.22</td><td>1    </td><td>0    </td><td>3    </td><td>1    </td><td>type3</td></tr>\n",
       "</tbody>\n",
       "</table>\n"
      ],
      "text/latex": [
       "\\begin{tabular}{r|llllllllllll}\n",
       " mpg & cyl & disp & hp & drat & wt & qsec & vs & am & gear & carb & type\\\\\n",
       "\\hline\n",
       "\t 21.0  & 6     & 160   & 110   & 3.90  & 2.620 & 16.46 & 0     & 1     & 4     & 4     & type3\\\\\n",
       "\t 21.0  & 6     & 160   & 110   & 3.90  & 2.875 & 17.02 & 0     & 1     & 4     & 4     & type3\\\\\n",
       "\t 22.8  & 4     & 108   &  93   & 3.85  & 2.320 & 18.61 & 1     & 1     & 4     & 1     & type3\\\\\n",
       "\t 21.4  & 6     & 258   & 110   & 3.08  & 3.215 & 19.44 & 1     & 0     & 3     & 1     & type3\\\\\n",
       "\t 18.7  & 8     & 360   & 175   & 3.15  & 3.440 & 17.02 & 0     & 0     & 3     & 2     & type3\\\\\n",
       "\t 18.1  & 6     & 225   & 105   & 2.76  & 3.460 & 20.22 & 1     & 0     & 3     & 1     & type3\\\\\n",
       "\\end{tabular}\n"
      ],
      "text/markdown": [
       "\n",
       "| mpg | cyl | disp | hp | drat | wt | qsec | vs | am | gear | carb | type |\n",
       "|---|---|---|---|---|---|---|---|---|---|---|---|\n",
       "| 21.0  | 6     | 160   | 110   | 3.90  | 2.620 | 16.46 | 0     | 1     | 4     | 4     | type3 |\n",
       "| 21.0  | 6     | 160   | 110   | 3.90  | 2.875 | 17.02 | 0     | 1     | 4     | 4     | type3 |\n",
       "| 22.8  | 4     | 108   |  93   | 3.85  | 2.320 | 18.61 | 1     | 1     | 4     | 1     | type3 |\n",
       "| 21.4  | 6     | 258   | 110   | 3.08  | 3.215 | 19.44 | 1     | 0     | 3     | 1     | type3 |\n",
       "| 18.7  | 8     | 360   | 175   | 3.15  | 3.440 | 17.02 | 0     | 0     | 3     | 2     | type3 |\n",
       "| 18.1  | 6     | 225   | 105   | 2.76  | 3.460 | 20.22 | 1     | 0     | 3     | 1     | type3 |\n",
       "\n"
      ],
      "text/plain": [
       "  mpg  cyl disp hp  drat wt    qsec  vs am gear carb type \n",
       "1 21.0 6   160  110 3.90 2.620 16.46 0  1  4    4    type3\n",
       "2 21.0 6   160  110 3.90 2.875 17.02 0  1  4    4    type3\n",
       "3 22.8 4   108   93 3.85 2.320 18.61 1  1  4    1    type3\n",
       "4 21.4 6   258  110 3.08 3.215 19.44 1  0  3    1    type3\n",
       "5 18.7 8   360  175 3.15 3.440 17.02 0  0  3    2    type3\n",
       "6 18.1 6   225  105 2.76 3.460 20.22 1  0  3    1    type3"
      ]
     },
     "metadata": {},
     "output_type": "display_data"
    }
   ],
   "source": [
    "mtcars%>%\n",
    "    as_tibble()%>%\n",
    "    mutate(type=pmap_chr(list(mpg,cyl),\n",
    "                        function(x,y){custom_if_else(x,y)}))%>%head()"
   ]
  },
  {
   "cell_type": "markdown",
   "metadata": {},
   "source": [
    "# Lubridate\n"
   ]
  },
  {
   "cell_type": "markdown",
   "metadata": {},
   "source": [
    "## Find time difference"
   ]
  },
  {
   "cell_type": "code",
   "execution_count": 35,
   "metadata": {},
   "outputs": [],
   "source": [
    "start_time=ymd(\"2021-01-01\",tz=\"America/Indianapolis\")\n",
    "end_time=ymd_hms(\"2021-01-03 23:55:00\",tz=\"America/Indianapolis\")"
   ]
  },
  {
   "cell_type": "code",
   "execution_count": 36,
   "metadata": {
    "scrolled": true
   },
   "outputs": [
    {
     "name": "stdout",
     "output_type": "stream",
     "text": [
      "Time difference of 2.996528 days\n",
      "Time difference of 2.996528 days\n",
      "[1] 4315\n",
      "[1] 4315\n"
     ]
    }
   ],
   "source": [
    "print(end_time-start_time)\n",
    "print(difftime(end_time,start_time))\n",
    "print(as.numeric(as.duration(end_time-start_time),units='minutes'))\n",
    "print(interval(start_time,end_time)/minutes(1))"
   ]
  },
  {
   "cell_type": "markdown",
   "metadata": {},
   "source": [
    "## Create a time-grid\n",
    "\n",
    "Create 5 minutes interval timestamp from `start_time` to `end_time`."
   ]
  },
  {
   "cell_type": "code",
   "execution_count": 60,
   "metadata": {},
   "outputs": [],
   "source": [
    "start_time=ymd(\"2021-01-01\",tz=\"America/Indianapolis\")\n",
    "end_time=ymd_hms(\"2021-01-03 23:55:00\",tz=\"America/Indianapolis\")\n",
    "minute_diff=interval(start_time,end_time)/minutes(1)"
   ]
  },
  {
   "cell_type": "code",
   "execution_count": 70,
   "metadata": {},
   "outputs": [
    {
     "name": "stdout",
     "output_type": "stream",
     "text": [
      "[1] \"2021-01-01 00:00:00 EST\" \"2021-01-01 00:05:00 EST\"\n",
      "[1] \"2021-01-03 23:50:00 EST\" \"2021-01-03 23:55:00 EST\"\n"
     ]
    }
   ],
   "source": [
    "# class(dminutes(5)) is duration   class(minutes(5)) is period. Not sure the difference.\n",
    "# it creates\n",
    "time_grid=start_time+(0:(minute_diff/5))*dminutes(5)\n",
    "print(time_grid[1:2])\n",
    "print(tail(time_grid,2))"
   ]
  },
  {
   "cell_type": "code",
   "execution_count": null,
   "metadata": {},
   "outputs": [],
   "source": []
  },
  {
   "cell_type": "code",
   "execution_count": 71,
   "metadata": {},
   "outputs": [
    {
     "name": "stdout",
     "output_type": "stream",
     "text": [
      "R version 3.6.3 (2020-02-29)\n",
      "Platform: x86_64-w64-mingw32/x64 (64-bit)\n",
      "Running under: Windows 10 x64 (build 19042)\n",
      "\n",
      "Matrix products: default\n",
      "\n",
      "locale:\n",
      "[1] LC_COLLATE=English_United States.1252 \n",
      "[2] LC_CTYPE=English_United States.1252   \n",
      "[3] LC_MONETARY=English_United States.1252\n",
      "[4] LC_NUMERIC=C                          \n",
      "[5] LC_TIME=English_United States.1252    \n",
      "\n",
      "attached base packages:\n",
      "[1] stats     graphics  grDevices utils     datasets  methods   base     \n",
      "\n",
      "other attached packages:\n",
      " [1] data.table_1.12.2 lubridate_1.7.4   forcats_0.5.0     stringr_1.4.0    \n",
      " [5] dplyr_0.8.0.1     purrr_0.3.4       readr_1.4.0       tidyr_0.8.3      \n",
      " [9] tibble_2.1.1      ggplot2_3.1.1     tidyverse_1.2.1  \n",
      "\n",
      "loaded via a namespace (and not attached):\n",
      " [1] pbdZMQ_0.3-3     tidyselect_0.2.5 repr_0.19.2      haven_2.3.1     \n",
      " [5] lattice_0.20-38  colorspace_1.4-1 generics_0.0.2   vctrs_0.3.5     \n",
      " [9] htmltools_0.3.6  base64enc_0.1-3  rlang_0.4.9      pillar_1.4.7    \n",
      "[13] glue_1.4.2       withr_2.1.2      modelr_0.1.8     readxl_1.3.1    \n",
      "[17] uuid_0.1-2       lifecycle_0.2.0  plyr_1.8.4       munsell_0.5.0   \n",
      "[21] gtable_0.3.0     cellranger_1.1.0 rvest_0.3.3      evaluate_0.13   \n",
      "[25] broom_0.5.2      IRdisplay_0.7.0  Rcpp_1.0.1       scales_1.0.0    \n",
      "[29] backports_1.1.4  IRkernel_0.8.15  jsonlite_1.6     hms_0.5.3       \n",
      "[33] digest_0.6.18    stringi_1.4.3    grid_3.6.3       cli_1.1.0       \n",
      "[37] tools_3.6.3      magrittr_1.5     lazyeval_0.2.2   crayon_1.3.4    \n",
      "[41] pkgconfig_2.0.2  ellipsis_0.3.1   xml2_1.2.0       assertthat_0.2.1\n",
      "[45] httr_1.4.0       rstudioapi_0.13  R6_2.4.0         nlme_3.1-139    \n",
      "[49] compiler_3.6.3  \n"
     ]
    }
   ],
   "source": [
    "print(sessionInfo())"
   ]
  },
  {
   "cell_type": "code",
   "execution_count": null,
   "metadata": {},
   "outputs": [],
   "source": []
  }
 ],
 "metadata": {
  "kernelspec": {
   "display_name": "R",
   "language": "R",
   "name": "ir"
  },
  "language_info": {
   "codemirror_mode": "r",
   "file_extension": ".r",
   "mimetype": "text/x-r-source",
   "name": "R",
   "pygments_lexer": "r",
   "version": "3.6.3"
  }
 },
 "nbformat": 4,
 "nbformat_minor": 4
}
